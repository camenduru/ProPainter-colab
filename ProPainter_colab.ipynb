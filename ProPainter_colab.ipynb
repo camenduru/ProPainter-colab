{
  "cells": [
    {
      "cell_type": "markdown",
      "metadata": {
        "id": "view-in-github"
      },
      "source": [
        "[![Open In Colab](https://colab.research.google.com/assets/colab-badge.svg)](https://colab.research.google.com/github/camenduru/ProPainter-colab/blob/main/ProPainter_colab.ipynb)"
      ]
    },
    {
      "cell_type": "code",
      "execution_count": null,
      "metadata": {
        "id": "VjYy0F2gZIPR"
      },
      "outputs": [],
      "source": [
        "%cd /content\n",
        "!git clone -b dev https://github.com/camenduru/ProPainter\n",
        "%cd /content/ProPainter\n",
        "\n",
        "!apt -y install -qq aria2\n",
        "!aria2c --console-log-level=error -c -x 16 -s 16 -k 1M https://huggingface.co/camenduru/ProPainter/resolve/main/i3d_rgb_imagenet.pt -d /content/ProPainter/weights -o i3d_rgb_imagenet.pt\n",
        "!aria2c --console-log-level=error -c -x 16 -s 16 -k 1M https://huggingface.co/camenduru/ProPainter/resolve/main/raft-things.pth -d /content/ProPainter/weights -o raft-things.pth\n",
        "!aria2c --console-log-level=error -c -x 16 -s 16 -k 1M https://huggingface.co/camenduru/ProPainter/resolve/main/recurrent_flow_completion.pth -d /content/ProPainter/weights -o recurrent_flow_completion.pth\n",
        "!aria2c --console-log-level=error -c -x 16 -s 16 -k 1M https://huggingface.co/camenduru/ProPainter/resolve/main/ProPainter.pth -d /content/ProPainter/weights -o ProPainter.pth\n",
        "\n",
        "!pip install -q https://github.com/camenduru/insightface-face-detection-colab/releases/download/v0.1/mmcv_full-1.7.0-cp310-cp310-linux_x86_64.whl\n",
        "!pip install -q timm einops av"
      ]
    },
    {
      "cell_type": "code",
      "execution_count": null,
      "metadata": {},
      "outputs": [],
      "source": [
        "# The first example (object removal)\n",
        "!python inference_propainter.py --video inputs/object_removal/bmx-trees --mask inputs/object_removal/bmx-trees_mask "
      ]
    },
    {
      "cell_type": "code",
      "execution_count": null,
      "metadata": {},
      "outputs": [],
      "source": [
        "# The first example (object removal)\n",
        "!python inference_propainter.py --video inputs/object_removal/tennis --mask inputs/object_removal/tennis_mask "
      ]
    },
    {
      "cell_type": "code",
      "execution_count": null,
      "metadata": {},
      "outputs": [],
      "source": [
        "# The second example (video completion)\n",
        "!python inference_propainter.py --video inputs/watermark_removal/running_car.mp4 --mask inputs/watermark_removal/mask.png"
      ]
    },
    {
      "cell_type": "code",
      "execution_count": null,
      "metadata": {},
      "outputs": [],
      "source": [
        "# process a 576x320 video; set --fp16 to use fp16 (half precision) during inference.\n",
        "!python inference_propainter.py --video inputs/watermark_removal/running_car.mp4 --mask inputs/watermark_removal/mask.png --height 480 --width 720 --fp16"
      ]
    }
  ],
  "metadata": {
    "accelerator": "GPU",
    "colab": {
      "gpuType": "T4",
      "provenance": []
    },
    "kernelspec": {
      "display_name": "Python 3",
      "name": "python3"
    },
    "language_info": {
      "name": "python"
    }
  },
  "nbformat": 4,
  "nbformat_minor": 0
}
